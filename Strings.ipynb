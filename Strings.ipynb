{
  "nbformat": 4,
  "nbformat_minor": 0,
  "metadata": {
    "colab": {
      "provenance": []
    },
    "kernelspec": {
      "name": "python3",
      "display_name": "Python 3"
    },
    "language_info": {
      "name": "python"
    }
  },
  "cells": [
    {
      "cell_type": "markdown",
      "source": [
        "1. Escape Characters are the characters that can be escaped that is ignored\n",
        "2. \\n represents next line\n",
        "   \\t represents tab\n",
        "3. Its ignored since we have used double quotes\n",
        "4. We could enclose the strings in \"\"\" \"\"\"\n",
        "5. We can use it normally or using \\\\\n",
        "6.  e\n",
        "    Hello\n",
        "    Hello\n",
        "    lo, world!\n",
        "7.  HELLO\n",
        "    True\n",
        "    hello\n",
        "8. ['Remember,', 'remember,', 'the', 'fifth', 'of', 'November.']\n",
        " There-can-be-only-one.\n",
        "9. rjust()\n",
        "   ljust()\n",
        "   center()\n",
        "10. ltrim()\n",
        "rtrim()"
      ],
      "metadata": {
        "id": "u3NlDGr5J1Sj"
      }
    },
    {
      "cell_type": "code",
      "source": [
        "tableData = [['apples', 'oranges', 'cherries', 'banana'],\n",
        "             ['Alice', 'Bob', 'Carol', 'David'],\n",
        "             ['dogs', 'cats', 'moose', 'goose']]\n",
        "for i in range(0,3):\n",
        "    for j in range(0,3):\n",
        "        print(tableData[j][i].ljust(10),end=\"\")\n",
        "    print()"
      ],
      "metadata": {
        "id": "u3eWa51ZRkxc"
      },
      "execution_count": null,
      "outputs": []
    },
    {
      "cell_type": "code",
      "source": [
        "'-'.join('There can be only one.'.split())\n"
      ],
      "metadata": {
        "colab": {
          "base_uri": "https://localhost:8080/",
          "height": 35
        },
        "id": "5Gxt2txmL7AN",
        "outputId": "614bcc6c-3e6c-4b8d-e3ce-74895f63c146"
      },
      "execution_count": 8,
      "outputs": [
        {
          "output_type": "execute_result",
          "data": {
            "text/plain": [
              "'There-can-be-only-one.'"
            ],
            "application/vnd.google.colaboratory.intrinsic+json": {
              "type": "string"
            }
          },
          "metadata": {},
          "execution_count": 8
        }
      ]
    },
    {
      "cell_type": "code",
      "source": [
        "spam = \"\"\"\n",
        "This is a line\n",
        "This is another line\n",
        "This is another line\n",
        "\"\"\"\n",
        "print(spam)"
      ],
      "metadata": {
        "colab": {
          "base_uri": "https://localhost:8080/"
        },
        "id": "YVdN3Aa5KKrd",
        "outputId": "932778c9-e5dc-41cc-9b11-aec91913d5ca"
      },
      "execution_count": null,
      "outputs": [
        {
          "output_type": "stream",
          "name": "stdout",
          "text": [
            "\n",
            "This is a line \n",
            "This is another line \n",
            "This is another line\n",
            "\n"
          ]
        }
      ]
    }
  ]
}