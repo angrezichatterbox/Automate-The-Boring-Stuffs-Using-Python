{
  "nbformat": 4,
  "nbformat_minor": 0,
  "metadata": {
    "colab": {
      "provenance": []
    },
    "kernelspec": {
      "name": "python3",
      "display_name": "Python 3"
    },
    "language_info": {
      "name": "python"
    }
  },
  "cells": [
    {
      "cell_type": "markdown",
      "source": [
        "```\n",
        "Q1\n",
        "Functions are very useful for coding because they help us group code that is being reused so that only the function variable is being required to be called when that specifc set of tasks is done\n",
        "```"
      ],
      "metadata": {
        "id": "GaXtqHVYrymp"
      }
    },
    {
      "cell_type": "markdown",
      "source": [
        "```\n",
        "Q2\n",
        "When the function is called the fuction gets executed\n",
        "```"
      ],
      "metadata": {
        "id": "zFgASfvnsHxj"
      }
    },
    {
      "cell_type": "markdown",
      "source": [
        "```\n",
        "Q3\n",
        "def function_name(): ----> Creates the Function\n",
        "  ____fill_content_____\n",
        "```\n"
      ],
      "metadata": {
        "id": "bdt-cKECs4o4"
      }
    },
    {
      "cell_type": "markdown",
      "source": [
        "```\n",
        "Q4\n",
        "function included defining the function and function calling is to start its the instrutions under it\n",
        "```\n"
      ],
      "metadata": {
        "id": "mG_-WgZDtFhU"
      }
    },
    {
      "cell_type": "markdown",
      "source": [
        "```\n",
        "Q5\n",
        "Global scopes are variables created within a function and can be used outside the function after it has been called local scopes are variables inside a fuction that cannot be used outisde it\n",
        "\n",
        "```\n",
        "```\n",
        "Q7\n",
        "Return can be used to return a single value after executing a function for further use ...\n",
        "```"
      ],
      "metadata": {
        "id": "ltc8wYhYtpq1"
      }
    },
    {
      "cell_type": "markdown",
      "source": [
        "```\n",
        "Q8\n",
        "None is the default value of return\n",
        "```\n",
        "\n",
        "```\n",
        "Q9\n",
        "global variable_name\n",
        "```\n",
        "```\n",
        "Q10\n",
        "None is of None Datatype\n",
        "```\n",
        "```\n",
        "Q11\n",
        "it imports that library for the use of modules under it\n",
        "```\n",
        "```\n",
        "Q12\n",
        "spam.bacon()\n",
        "```\n",
        "```\n",
        "Q13\n",
        "The answer depends on type of code being run\n",
        "```\n",
        "```\n",
        "Q14\n",
        "The code under the try clause consist of the code to be executed for all cases .. While execept is a special cases like errors\n",
        "```"
      ],
      "metadata": {
        "id": "XwWcYeiouUMf"
      }
    },
    {
      "cell_type": "code",
      "source": [
        "def collatz(n):\n",
        "  if n % 2 == 0 :\n",
        "    if n > 1 :\n",
        "      print(n//2)\n",
        "      collatz(n//2)\n",
        "  elif n % 2 != 0 :\n",
        "    if n > 1:\n",
        "      print((3*n)+1)\n",
        "      collatz((3*n)+1)\n",
        "collatz(int(input()))"
      ],
      "metadata": {
        "colab": {
          "base_uri": "https://localhost:8080/"
        },
        "id": "hoSu-IBuv9df",
        "outputId": "a793e228-fd64-4d3e-dc6d-e1519fc6bcf0"
      },
      "execution_count": 9,
      "outputs": [
        {
          "output_type": "stream",
          "name": "stdout",
          "text": [
            "3\n",
            "10\n",
            "5\n",
            "16\n",
            "8\n",
            "4\n",
            "2\n",
            "1\n"
          ]
        }
      ]
    },
    {
      "cell_type": "code",
      "source": [
        "try :\n",
        "  collatz(int(input()))\n",
        "except ValueError:\n",
        "  print(\"Value is wrong\")\n",
        "\n"
      ],
      "metadata": {
        "colab": {
          "base_uri": "https://localhost:8080/"
        },
        "id": "mDNiPGVYyezm",
        "outputId": "d8c933dd-f0ca-468a-c2a2-b5ca023905d8"
      },
      "execution_count": 10,
      "outputs": [
        {
          "output_type": "stream",
          "name": "stdout",
          "text": [
            "ewvdefv\n",
            "Vlaue is wrohg\n"
          ]
        }
      ]
    }
  ]
}