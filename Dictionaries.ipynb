{
  "nbformat": 4,
  "nbformat_minor": 0,
  "metadata": {
    "colab": {
      "provenance": []
    },
    "kernelspec": {
      "name": "python3",
      "display_name": "Python 3"
    },
    "language_info": {
      "name": "python"
    }
  },
  "cells": [
    {
      "cell_type": "markdown",
      "source": [
        "1. d = { }\n",
        "2. { 'foo' : 42 }\n",
        "3. Dict are not ordered while lists are ordered\n",
        "4. Error\n",
        "5. cat in spam refers to just keys while spam.keys() refers specifc to keys only\n",
        "6. cat in spam refers to keys while spam in spam.values() refers to cat in the values\n",
        "7. spam.setdefault('color':'black')\n",
        "8. import pprint"
      ],
      "metadata": {
        "id": "ngdVkGUeebBM"
      }
    },
    {
      "cell_type": "code",
      "source": [
        "d =  {'1h': 'bking', '6c': 'wqueen', '2g': 'bbishop', '5h': 'bqueen', '3e': 'wking'}\n",
        "def isValidChessBoard(d):\n",
        "    a = [1,2,3,4,5,6,7,8]\n",
        "    b = ['a','b','c','d','e','f','g']\n",
        "    for n in d.keys():\n",
        "        if n[0] in a and n[1] in b :\n",
        "            continue\n",
        "        else:\n",
        "            return False\n",
        "    for n in d.values():\n",
        "        k = 0\n",
        "        i = 0\n",
        "        if n == 'bking' or 'wking':\n",
        "            k+=1\n",
        "        if n == 'bpawn' or 'wpawn':\n",
        "            i+=1\n",
        "        m +=1\n",
        "    if m != 16 or n != 2 or i > 8  :\n",
        "        return False\n",
        "isValidChessBoard(d)"
      ],
      "metadata": {
        "colab": {
          "base_uri": "https://localhost:8080/"
        },
        "id": "0RsKJrzymhic",
        "outputId": "93e4bf62-97b3-4d87-81fa-ae2a6627f5cb"
      },
      "execution_count": null,
      "outputs": [
        {
          "output_type": "execute_result",
          "data": {
            "text/plain": [
              "False"
            ]
          },
          "metadata": {},
          "execution_count": 5
        }
      ]
    },
    {
      "cell_type": "code",
      "source": [
        "stuff = {'rope': 1, 'torch': 6, 'gold coin': 42, 'dagger': 1, 'arrow': 12}\n",
        "\n",
        "def displayInventory(inventory):\n",
        "    print(\"Inventory:\")\n",
        "    item_total = 0\n",
        "    for k, v in inventory.items():\n",
        "        print(v,k)\n",
        "        item_total +=v\n",
        "    print(\"Total number of items: \" + str(item_total))\n",
        "\n",
        "displayInventory(stuff)"
      ],
      "metadata": {
        "colab": {
          "base_uri": "https://localhost:8080/"
        },
        "id": "WoEBbbEGnJf4",
        "outputId": "7a65f0ea-cae1-4d69-9b68-2777b19a9caf"
      },
      "execution_count": 7,
      "outputs": [
        {
          "output_type": "stream",
          "name": "stdout",
          "text": [
            "Inventory:\n",
            "1 rope\n",
            "6 torch\n",
            "42 gold coin\n",
            "1 dagger\n",
            "12 arrow\n",
            "Total number of items: 62\n"
          ]
        }
      ]
    },
    {
      "cell_type": "code",
      "source": [
        "def addToInventory(inventory, addedItems):\n",
        "    for i in addedItems:\n",
        "        if i in inventory:\n",
        "            inventory[i] +=1\n",
        "        else:\n",
        "            inventory[i] =1\n",
        "\n",
        "    return inventory\n",
        "inv = {'gold coin': 42, 'rope': 1}\n",
        "dragonLoot = ['gold coin', 'dagger', 'gold coin', 'gold coin', 'ruby']\n",
        "inv = addToInventory(inv, dragonLoot)\n",
        "print(inv)\n",
        "def displayInventory(inventory):\n",
        "    print(\"Inventory:\")\n",
        "    item_total = 0\n",
        "    for k, v in inventory.items():\n",
        "        print(v,k)\n",
        "        item_total +=v\n",
        "    print(\"Total number of items: \" + str(item_total))\n",
        "displayInventory(inv)"
      ],
      "metadata": {
        "id": "5BxXpel1p4l9"
      },
      "execution_count": null,
      "outputs": []
    },
    {
      "cell_type": "markdown",
      "source": [],
      "metadata": {
        "id": "Cu-E9ZOwoBvA"
      }
    }
  ]
}