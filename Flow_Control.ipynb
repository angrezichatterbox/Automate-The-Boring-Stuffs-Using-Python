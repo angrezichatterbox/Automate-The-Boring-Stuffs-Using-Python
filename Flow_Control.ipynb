{
  "nbformat": 4,
  "nbformat_minor": 0,
  "metadata": {
    "colab": {
      "provenance": []
    },
    "kernelspec": {
      "name": "python3",
      "display_name": "Python 3"
    },
    "language_info": {
      "name": "python"
    }
  },
  "cells": [
    {
      "cell_type": "markdown",
      "source": [
        "#  Automate The Boring Stuff using Python -- 2  "
      ],
      "metadata": {
        "id": "mQZzBvk7aFZH"
      }
    },
    {
      "cell_type": "markdown",
      "source": [
        "```\n",
        "Q1\n",
        "There are two types of Boolean data types which are True and False ... They can be Written as True and False ..\n",
        "```"
      ],
      "metadata": {
        "id": "cAmnjvNWaTUz"
      }
    },
    {
      "cell_type": "markdown",
      "source": [
        "```\n",
        "Q2\n",
        "The three types of Boolean Operators are > , < and =\n",
        "```\n"
      ],
      "metadata": {
        "id": "GfKj8LqqbKyw"
      }
    },
    {
      "cell_type": "markdown",
      "source": [
        "```\n",
        "Q3\n",
        "True or True\n",
        "True\n",
        "True or False\n",
        "True\n",
        "False or True\n",
        "True\n",
        "False or False\n",
        "False\n",
        "\n",
        "not True\n",
        "False\n",
        "not False\n",
        "True\n",
        "\n",
        "True and True\n",
        "True\n",
        "True and False\n",
        "False\n",
        "False and True\n",
        "False\n",
        "False and False\n",
        "False\n",
        "```"
      ],
      "metadata": {
        "id": "YdG3ArZEbUie"
      }
    },
    {
      "cell_type": "markdown",
      "source": [
        "```\n",
        "Q4\n",
        "not (5 > 4) ---> False\n",
        "(5 > 4) or (3 == 5) ---> True\n",
        "not ((5 > 4) or (3 == 5)) ---> False\n",
        "(True and True) and (True == False) --- > False\n",
        "(not False) or (not True) ---> True\n",
        "```"
      ],
      "metadata": {
        "id": "1orFdCFhb6I-"
      }
    },
    {
      "cell_type": "markdown",
      "source": [
        "```\n",
        "Q5\n",
        "> < = <= >= ==\n",
        "```"
      ],
      "metadata": {
        "id": "pAY4FWbycoLk"
      }
    },
    {
      "cell_type": "markdown",
      "source": [
        "```\n",
        "Q7\n",
        "A condition is needed when we want to execute certain statements only when a conditon is satified\n",
        "```"
      ],
      "metadata": {
        "id": "RqSwmkYkcvX-"
      }
    },
    {
      "cell_type": "markdown",
      "source": [
        "```\n",
        "Q6\n",
        "A assigment operator is used assign a value to a variable wheareas an equal to operator is used to check wheather a variable is of a specific value\n",
        "\n",
        "```"
      ],
      "metadata": {
        "id": "_pHKOLVndIJE"
      }
    },
    {
      "cell_type": "markdown",
      "source": [
        "```\n",
        "Q8\n",
        "spam = 0\n",
        "if spam == 10:\n",
        "    print('eggs')\n",
        "    Block 1 above\n",
        "    if spam > 5:\n",
        "        print('bacon')\n",
        "        2\n",
        "    else:\n",
        "        print('ham')\n",
        "    print('spam')\n",
        "    3\n",
        "print('spam')\n",
        "```"
      ],
      "metadata": {
        "id": "fETROHBtdYcl"
      }
    },
    {
      "cell_type": "code",
      "source": [
        "spam = int(input())\n",
        "if spam == 1 :\n",
        "  print(\"Hello\")\n",
        "elif spam == 2 :\n",
        "  print(\"Greetings!\")"
      ],
      "metadata": {
        "id": "OyOmWJoXfZel"
      },
      "execution_count": null,
      "outputs": []
    },
    {
      "cell_type": "markdown",
      "source": [
        "```\n",
        "Q9\n",
        "We can press ctrl - x\n",
        "```"
      ],
      "metadata": {
        "id": "gXh5OWIigEFE"
      }
    },
    {
      "cell_type": "markdown",
      "source": [
        "```\n",
        "Q10\n",
        "break is used to exit a loop\n",
        "continue is used to skip a specific case in a loop\n",
        "```"
      ],
      "metadata": {
        "id": "00tcmlcsg3h_"
      }
    },
    {
      "cell_type": "markdown",
      "source": [
        "```\n",
        "12\n",
        "All do the same thing\n",
        "```"
      ],
      "metadata": {
        "id": "WsJYNaChhTjw"
      }
    },
    {
      "cell_type": "code",
      "source": [
        "for i in range(1,10):\n",
        "  print(i)\n",
        "i = 1\n",
        "while i < 11:\n",
        "  print(i)\n",
        "  i+=1"
      ],
      "metadata": {
        "id": "_PMbkiR-k63D"
      },
      "execution_count": null,
      "outputs": []
    },
    {
      "cell_type": "markdown",
      "source": [
        "spam.bacon()"
      ],
      "metadata": {
        "id": "9aR2nAIrlC4n"
      }
    }
  ]
}