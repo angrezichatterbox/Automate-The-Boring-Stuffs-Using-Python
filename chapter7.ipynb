{
  "nbformat": 4,
  "nbformat_minor": 0,
  "metadata": {
    "colab": {
      "provenance": []
    },
    "kernelspec": {
      "name": "python3",
      "display_name": "Python 3"
    },
    "language_info": {
      "name": "python"
    }
  },
  "cells": [
    {
      "cell_type": "markdown",
      "source": [
        "1. re.compile()\n",
        "2. raw strings are used to prevent issues with escape characters\n",
        "3. It returns a True or False value.\n",
        "4. Using groups() function\n",
        "5. r'(\\d\\d\\d)-(\\d\\d\\d-\\d\\d\\d\\d)'\n",
        "   If we take the example of 123-456-789\n",
        "   group(0) returns the entire number. group(1) returns 456-789\n",
        "6. You could use the escape character\n",
        "7. When a regex has no groups the findall() returns a list while when it has groups it returns a tuple\n",
        "8. It is used to signify or to find two words at the same position\n",
        "9. It is used in two cases to find words which have and do not have a specific character or in non greedy matching\n",
        "10. + matches one of more occurence * matches 0 or more occurences\n",
        "11. {3} is used to signify 3 occurance of something specific\n",
        "{3,5} us used to matches something in between 3 and 5 characters long\n",
        "12. \\d is used to matches digits\n",
        "    \\w is used to match word characters\n",
        "    \\s is to use match spaces\n",
        "13. \\D matches everything other than a digit\n",
        "  \\W matches everything other than a word character\n",
        "  \\S any non white space\n",
        "14. .* matches any character zero or more times .*? is a non greedy version that matches as little text as possible\n",
        "15. [0-9a-z]\n",
        "16. re.I is used as an argumnet within the re.complie() to ignore case-sensitivity\n",
        "17. The . character normally matches any character except for a newline. If re.DOTALL is passed as the second argument to re.compile(), the . character will also match a newline.\n",
        "\n",
        "18. 'X drummers, X pipers, five rings, X hens\n",
        "19. Passing re.VERBOSE as the second argument to re.compile() allows you to include whitespace and comments within the regular expression for better readability.\n",
        "20. r'^\\d{1,3}(,\\d{3})*$\n",
        "21. r'[A-Z][a-zA-Z]*\\sWatanabe'.\n",
        "22. r'^(Alice|Bob|Carol)\\s+(eats|pets|throws)\\s+(apples|cats|baseballs)\\.$'"
      ],
      "metadata": {
        "id": "_HJUkDsWajdg"
      }
    },
    {
      "cell_type": "code",
      "source": [
        "import re\n",
        "\n",
        "date_pattern = re.compile(r'^(0[1-9]|1[0-2])/(0[1-9]|[12][0-9]|3[01])/(1000|1[0-9]{3}|200[0-9]|201[0-9]|202[0-9]|29[0-9]{2})$')\n",
        "\n",
        "date_string = \"31/02/2020\"\n",
        "match = date_pattern.match(date_string)\n",
        "\n",
        "if match:\n",
        "    month, day, year = map(int, match.groups())\n",
        "    if (month in [4, 6, 9, 11] and day <= 30) or \\\n",
        "       (month in [1, 3, 5, 7, 8, 10, 12] and day <= 31) or \\\n",
        "       (month == 2 and ((year % 4 == 0 and year % 100 != 0) or (year % 400 == 0)) and day <= 29) or \\\n",
        "       (month == 2 and day <= 28):\n",
        "        print(\"Valid date\")\n",
        "    else:\n",
        "        print(\"Invalid date\")\n",
        "else:\n",
        "    print(\"Invalid date format\")\n"
      ],
      "metadata": {
        "id": "Iuy9iyXSbAFz"
      },
      "execution_count": null,
      "outputs": []
    },
    {
      "cell_type": "code",
      "source": [
        "import re\n",
        "\n",
        "def is_strong_password(password):\n",
        "    password_pattern = re.compile(r'^(?=.*[a-z])(?=.*[A-Z])(?=.*\\d).{8,}$')\n",
        "    return bool(password_pattern.match(password))\n",
        "password = \"AlphaBeTAgamma1@\"\n",
        "if is_strong_password(password):\n",
        "    print(\"Password is strong\")\n",
        "else:\n",
        "    print(\"Password is not strong\")\n"
      ],
      "metadata": {
        "id": "vqUMRRQdePw3"
      },
      "execution_count": null,
      "outputs": []
    },
    {
      "cell_type": "code",
      "source": [
        "import re\n",
        "def regex_strip(s, chars=None):\n",
        "    if chars is None:\n",
        "        return re.sub(r'^\\s+|\\s+$', '', s)\n",
        "    else:\n",
        "        return re.sub(f'^[{re.escape(chars)}]+|[{re.escape(chars)}]+$', '', s)\n",
        "text = \"   Hello, World!   \"\n",
        "stripped_text = regex_strip(text)\n",
        "print(f\"Stripped text: '{stripped_text}'\")\n",
        "custom_stripped_text = regex_strip(text, \"Hdle\")\n",
        "print(f\"Custom stripped text: '{custom_stripped_text}'\")\n"
      ],
      "metadata": {
        "id": "RWIEpS6XejK8"
      },
      "execution_count": null,
      "outputs": []
    },
    {
      "cell_type": "code",
      "source": [],
      "metadata": {
        "id": "TPFSTGhgejMC"
      },
      "execution_count": null,
      "outputs": []
    }
  ]
}