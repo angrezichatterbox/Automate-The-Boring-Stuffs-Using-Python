{
  "nbformat": 4,
  "nbformat_minor": 0,
  "metadata": {
    "colab": {
      "provenance": []
    },
    "kernelspec": {
      "name": "python3",
      "display_name": "Python 3"
    },
    "language_info": {
      "name": "python"
    }
  },
  "cells": [
    {
      "cell_type": "markdown",
      "source": [
        "1.  relative path is relative to the current working directory.\n",
        "2. An absolute path starts with the root directory\n",
        "3. Path('C:/Users') / 'Al' evaluates to C:/Users/Al on Windows.\n",
        "4. C:/Users' / 'Al' is a TypeError, as you cannot use the / operator with strings.\n",
        "4. os.getcwd() returns the current working directory, and os.chdir() changes the current working directory.\n",
        "5. . refers to the current directory, and .. refers to the parent directory.\n",
        "6.  C:\\bacon\\eggs\\spam.txt, C:\\bacon\\eggs is the dir name, and spam.txt is the base name.\n",
        "7. The three mode arguments for the open() function are 'r' (read), 'w' (write), and 'a' (append).\n",
        "8. if an existing file is opened in write mode, its existing content will be erased.\n",
        "9. read() reads the entire file as a single string, while readlines() reads the file line by line and returns a list of lines.\n"
      ],
      "metadata": {
        "id": "84UTa5ZbA4lf"
      }
    },
    {
      "cell_type": "code",
      "source": [
        "import shelve\n",
        "import sys\n",
        "\n",
        "def add_to_clipboard(keyword, text):\n",
        "    with shelve.open('clipboard') as clipboard:\n",
        "        clipboard[keyword] = text\n",
        "        print(f'Text for \"{keyword}\" added to clipboard.')\n",
        "\n",
        "def delete_from_clipboard(keyword):\n",
        "    with shelve.open('clipboard') as clipboard:\n",
        "        if keyword in clipboard:\n",
        "            del clipboard[keyword]\n",
        "            print(f'Text for \"{keyword}\" deleted from clipboard.')\n",
        "        else:\n",
        "            print(f'No text found for \"{keyword}\" in the clipboard.')\n",
        "\n",
        "def delete_all():\n",
        "    with shelve.open('clipboard') as clipboard:\n",
        "        clipboard.clear()\n",
        "        print('All items deleted from clipboard.')\n",
        "\n",
        "if len(sys.argv) == 3:\n",
        "    command, keyword = sys.argv[1], sys.argv[2]\n",
        "    if command == 'add':\n",
        "        text = input(f'Enter the text for \"{keyword}\": ')\n",
        "        add_to_clipboard(keyword, text)\n",
        "    elif command == 'delete':\n",
        "        delete_from_clipboard(keyword)\n",
        "elif len(sys.argv) == 2 and sys.argv[1] == 'delete':\n",
        "    delete_all()\n",
        "else:\n",
        "    print('Usage: python clipboard.py add <keyword> OR python clipboard.py delete <keyword> OR python clipboard.py delete all')\n"
      ],
      "metadata": {
        "id": "zfCxWE7jB57m"
      },
      "execution_count": null,
      "outputs": []
    },
    {
      "cell_type": "code",
      "source": [
        "def mad_libs(file_path):\n",
        "    with open(file_path, 'r') as file:\n",
        "        content = file.read()\n",
        "\n",
        "    placeholders = ['ADJECTIVE', 'NOUN', 'ADVERB', 'VERB']\n",
        "\n",
        "    for placeholder in placeholders:\n",
        "        replacement = input(f'Enter an {placeholder.lower()}: ')\n",
        "        content = content.replace(placeholder, replacement, 1)\n",
        "\n",
        "    print(content)\n",
        "\n",
        "    with open('output.txt', 'w') as output_file:\n",
        "        output_file.write(content)\n",
        "\n",
        "mad_libs('alpha.txt')\n"
      ],
      "metadata": {
        "id": "lw7eX8-ZB9oE"
      },
      "execution_count": null,
      "outputs": []
    },
    {
      "cell_type": "code",
      "source": [],
      "metadata": {
        "id": "dBZztpYQCDKg"
      },
      "execution_count": null,
      "outputs": []
    }
  ]
}