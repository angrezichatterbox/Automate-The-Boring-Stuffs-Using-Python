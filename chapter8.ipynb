{
  "nbformat": 4,
  "nbformat_minor": 0,
  "metadata": {
    "colab": {
      "provenance": []
    },
    "kernelspec": {
      "name": "python3",
      "display_name": "Python 3"
    },
    "language_info": {
      "name": "python"
    }
  },
  "cells": [
    {
      "cell_type": "markdown",
      "source": [
        "1. No PyInputPlus is not included in the Python Standard Library It needs to be installed separately using pip install pyinputplus\n",
        "2. This alias makes it easier to reference PyInputPlus functions\n",
        "3. inputInt() is used to get an integer input from the user, while inputFloat() is used to get a floating-point (decimal) input\n",
        "4. pyip.inputInt(prompt='Enter a number: ', min=0, max=99)\n",
        "5. allowRegexes and blockRegexes are keyword arguments that take lists of regular expression strings allowRegexes specifies patterns that are allowed, and blockRegexes specifies patterns that are not allowed during input validation.\n",
        "6. If blank input is entered three times, inputStr(limit=3) will raise a pyinputplus.RetryLimitException because it allows a maximum of 3 retries.\n",
        "7. If blank input is entered three times, inputStr(limit=3, default='hello') will return the default value 'hello' after the third attempt.\n"
      ],
      "metadata": {
        "id": "Z9PQ_0eL-TC8"
      }
    },
    {
      "cell_type": "code",
      "source": [
        "import pyinputplus as pyip\n",
        "prices = {\n",
        "    'wheat': 1, 'white': 1, 'sourdough': 1,\n",
        "    'chicken': 2, 'turkey': 2, 'ham': 2, 'tofu': 2,\n",
        "    'cheddar': 1, 'Swiss': 1, 'mozzarella': 1,\n",
        "    'mayo': 0.5, 'mustard': 0.5, 'lettuce': 0.5, 'tomato': 0.5\n",
        "}\n",
        "bread = pyip.inputMenu(['wheat', 'white', 'sourdough'], numbered=True, prompt='Select a bread type: ')\n",
        "protein = pyip.inputMenu(['chicken', 'turkey', 'ham', 'tofu'], numbered=True, prompt='Select a protein type: ')\n",
        "cheese = pyip.inputYesNo('Do you want cheese? ')\n",
        "if cheese:\n",
        "    cheese_type = pyip.inputMenu(['cheddar', 'Swiss', 'mozzarella'], numbered=True, prompt='Select a cheese type: ')\n",
        "else:\n",
        "    cheese_type = None\n",
        "condiments = pyip.inputYesNo('Do you want mayo, mustard, lettuce, or tomato? ')\n",
        "quantity = pyip.inputInt('How many sandwiches do you want? ', min=1)\n",
        "total_cost = prices[bread] + prices[protein]\n",
        "if cheese_type:\n",
        "    total_cost += prices[cheese_type]\n",
        "if condiments:\n",
        "    total_cost += sum(prices[condiment] for condiment in ['mayo', 'mustard', 'lettuce', 'tomato'])\n",
        "total_cost *= quantity\n",
        "print(f'Total cost for {quantity} sandwich(es): ${total_cost}')\n"
      ],
      "metadata": {
        "id": "yvR4LnXq-3qq"
      },
      "execution_count": null,
      "outputs": []
    },
    {
      "cell_type": "code",
      "source": [
        "import time\n",
        "import random\n",
        "\n",
        "def multiplication_quiz():\n",
        "    for _ in range(10):\n",
        "        num1 = random.randint(0, 9)\n",
        "        num2 = random.randint(0, 9)\n",
        "        answer = num1 * num2\n",
        "\n",
        "        for _ in range(3):\n",
        "            user_answer = pyip.inputInt(f'{num1} x {num2} = ', allowRegexes=[str(answer)])\n",
        "            if user_answer == answer:\n",
        "                print('Correct!')\n",
        "                time.sleep(1)\n",
        "                break\n",
        "            else:\n",
        "                print('Incorrect. Try again.')\n",
        "                try:\n",
        "                    user_answer = pyip.inputInt(allowRegexes=[str(answer)], timeout=8, limit=3)\n",
        "                    if user_answer == answer:\n",
        "                        print('Correct!')\n",
        "                        time.sleep(1)\n",
        "                        break\n",
        "                except pyip.TimeoutException:\n",
        "                    print(f'Timeout. The correct answer was {answer}.')\n",
        "multiplication_quiz()\n"
      ],
      "metadata": {
        "id": "IuA4Fe3C_U6B"
      },
      "execution_count": null,
      "outputs": []
    }
  ]
}