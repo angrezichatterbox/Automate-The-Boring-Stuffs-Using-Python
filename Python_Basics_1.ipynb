{
  "nbformat": 4,
  "nbformat_minor": 0,
  "metadata": {
    "colab": {
      "provenance": []
    },
    "kernelspec": {
      "name": "python3",
      "display_name": "Python 3"
    },
    "language_info": {
      "name": "python"
    }
  },
  "cells": [
    {
      "cell_type": "markdown",
      "source": [
        "# **Automate The Boring Stuffs Lesson 1**\n"
      ],
      "metadata": {
        "id": "0kUtrmaZEkFJ"
      }
    },
    {
      "cell_type": "markdown",
      "source": [
        "```\n",
        "# Q1\n",
        "* ---> Operator\n",
        "'hello' ---> Values\n",
        "-88.8 ---> Values\n",
        "- ---> Operator\n",
        "/ ---> Operator\n",
        "+ ---> Operator\n",
        "5 --- > Values\n",
        "```\n",
        "\n"
      ],
      "metadata": {
        "id": "46-ZwP2IFqO8"
      }
    },
    {
      "cell_type": "markdown",
      "source": [
        "```\n",
        "Q2\n",
        "spam is a variable and 'spam' is a string\n",
        "```"
      ],
      "metadata": {
        "id": "1qOIpglAGDZ1"
      }
    },
    {
      "cell_type": "markdown",
      "source": [
        "```\n",
        "Q4\n",
        "The three datatypes which are commonly used in python are float,int and string\n",
        "```"
      ],
      "metadata": {
        "id": "SF1COKFAGfe6"
      }
    },
    {
      "cell_type": "markdown",
      "source": [
        "```\n",
        "Q5\n",
        "Expression are made up of either strings or values they often give a output based on which command we are give...\n",
        "```"
      ],
      "metadata": {
        "id": "4rOu7-KpGso2"
      }
    },
    {
      "cell_type": "markdown",
      "source": [
        "```\n",
        "Q5\n",
        "Expression gives an output without any variable being called but in the case of spam = 10 we have to call the variable to get an output\n",
        "```\n"
      ],
      "metadata": {
        "id": "yCoJZtxGJ1L0"
      }
    },
    {
      "cell_type": "markdown",
      "source": [
        "```\n",
        "Q7\n",
        "21\n",
        "```"
      ],
      "metadata": {
        "id": "UdQsWC7FKKu_"
      }
    },
    {
      "cell_type": "markdown",
      "source": [
        "```\n",
        "Q8\n",
        "100 is not a valid name because variable names cannot be named as numbers but however we can name them as numbers if we type as _100\n",
        "```"
      ],
      "metadata": {
        "id": "rZg6suDrK6vo"
      }
    },
    {
      "cell_type": "markdown",
      "source": [
        "```\n",
        "Q9\n",
        "We can pass as str(99) since strings cannot be concatenated with integers..\n",
        "```\n"
      ],
      "metadata": {
        "id": "XQNbJdZqLUEK"
      }
    },
    {
      "cell_type": "markdown",
      "source": [
        "```\n",
        "Q9\n",
        "int(),str(),float()\n",
        "```"
      ],
      "metadata": {
        "id": "oArM1CjALtPF"
      }
    }
  ]
}