{
  "cells": [
    {
      "cell_type": "markdown",
      "metadata": {
        "id": "jm75SwnZKbgj"
      },
      "source": [
        "1. [ ] is used to represent a list in python"
      ]
    },
    {
      "cell_type": "code",
      "execution_count": 2,
      "metadata": {
        "colab": {
          "base_uri": "https://localhost:8080/"
        },
        "id": "LoQ88gS7KrDz",
        "outputId": "1ba709dd-f49a-4b99-cfff-775befa0c03c"
      },
      "outputs": [
        {
          "name": "stdout",
          "output_type": "stream",
          "text": [
            "[2, 4, 6, 'hello', 8, 10]\n"
          ]
        }
      ],
      "source": [
        "spam = [2,4,6,8,10]\n",
        "spam.insert(3,'hello')\n",
        "print(spam)"
      ]
    },
    {
      "cell_type": "code",
      "execution_count": 4,
      "metadata": {
        "colab": {
          "base_uri": "https://localhost:8080/"
        },
        "id": "3UWeUHYhLOvr",
        "outputId": "7ea99e1d-9378-4830-a04f-16ed4b892851"
      },
      "outputs": [
        {
          "name": "stdout",
          "output_type": "stream",
          "text": [
            "d\n",
            "d\n",
            "['a', 'b']\n"
          ]
        }
      ],
      "source": [
        "spam = ['a', 'b', 'c', 'd']\n",
        "print(spam[3])\n",
        "print(spam[-1])\n",
        "print(spam[:-2])"
      ]
    },
    {
      "cell_type": "code",
      "execution_count": 5,
      "metadata": {
        "colab": {
          "base_uri": "https://localhost:8080/"
        },
        "id": "MSrKDaC0LZpi",
        "outputId": "eaef3245-94f8-4e25-8360-a030cf5134ec"
      },
      "outputs": [
        {
          "name": "stdout",
          "output_type": "stream",
          "text": [
            "1\n"
          ]
        }
      ],
      "source": [
        "bacon = [3.14, 'cat', 11, 'cat', True]\n",
        "print(bacon.index('cat')) # Assumed Output is 1\n",
        "bacon.append(99) # [3.14, 'cat', 11, 'cat', True,99]\n",
        "bacon.remove('cat') # [3.14, 11, 'cat', True,99]"
      ]
    },
    {
      "cell_type": "markdown",
      "metadata": {
        "id": "OYLH8oI4M-O-"
      },
      "source": [
        "9. The operator used for joining two lists is the + operator"
      ]
    },
    {
      "cell_type": "markdown",
      "metadata": {
        "id": "xtww6u2JNJup"
      },
      "source": [
        "10. append() inserts at the end of a list.\n",
        "insert() inserts at the postion specified by the user insert(position,item)"
      ]
    },
    {
      "cell_type": "markdown",
      "metadata": {
        "id": "Dc76ewUFNbo9"
      },
      "source": [
        "11. The various ways to remove elements from a list include pop remove and del list[]"
      ]
    },
    {
      "cell_type": "markdown",
      "metadata": {
        "id": "o_B-09fkOBYF"
      },
      "source": [
        "12. concatenation , removal of elements using indexes and overal indexing for retrevel of characters"
      ]
    },
    {
      "cell_type": "markdown",
      "metadata": {
        "id": "C0LpESt0ONHq"
      },
      "source": [
        "13. list are mutable .. tuples are not mutable"
      ]
    },
    {
      "cell_type": "markdown",
      "metadata": {
        "id": "rbKRy6D2OUK9"
      },
      "source": [
        "14. x = (42)\n"
      ]
    },
    {
      "cell_type": "markdown",
      "metadata": {
        "id": "8k2OwYUiOZMk"
      },
      "source": [
        "15. tuple(list)\n",
        "list(tuple)\n"
      ]
    },
    {
      "cell_type": "markdown",
      "metadata": {
        "id": "7aXdrHmoOjDi"
      },
      "source": [
        "16. Nested lists"
      ]
    },
    {
      "cell_type": "markdown",
      "metadata": {
        "id": "XGw4VrmOOniQ"
      },
      "source": [
        "17. The main diffrence lies in how they handle nested .. deep copy doesnot adopt changes that are made to original list in the case of nested objects"
      ]
    },
    {
      "cell_type": "code",
      "execution_count": 6,
      "metadata": {
        "colab": {
          "base_uri": "https://localhost:8080/"
        },
        "id": "oEAH3rYNPGFd",
        "outputId": "77124d65-533d-46d7-e229-a98275dddd24"
      },
      "outputs": [
        {
          "name": "stdout",
          "output_type": "stream",
          "text": [
            "[1, [2, 3], 4]\n",
            "[1, [2, 3], 4]\n",
            "[1, ['X', 3], 4]\n",
            "[1, ['X', 3], 4]\n"
          ]
        }
      ],
      "source": [
        "import copy\n",
        "\n",
        "original_list = [1, [2, 3], 4]\n",
        "shallow_copied_list = copy.copy(original_list)\n",
        "\n",
        "print(original_list)\n",
        "print(shallow_copied_list)\n",
        "\n",
        "original_list[1][0] = 'X'\n",
        "print(original_list)\n",
        "print(shallow_copied_list)  # The nested list is shared, so it is modified in both lists.\n"
      ]
    },
    {
      "cell_type": "code",
      "execution_count": 8,
      "metadata": {
        "colab": {
          "base_uri": "https://localhost:8080/"
        },
        "id": "izwY1504PMgb",
        "outputId": "7eac1f6c-c361-493a-d916-9e95e40a3f9e"
      },
      "outputs": [
        {
          "name": "stdout",
          "output_type": "stream",
          "text": [
            "[1, [2, 3], 4]\n",
            "[1, [2, 3], 4]\n",
            "[1, 'X', 4]\n",
            "[1, [2, 3], 4]\n"
          ]
        }
      ],
      "source": [
        "import copy\n",
        "\n",
        "original_list = [1, [2, 3], 4]\n",
        "deep_copied_list = copy.deepcopy(original_list)\n",
        "\n",
        "print(original_list)\n",
        "print(deep_copied_list)\n",
        "\n",
        "original_list[1][0] = 'X'\n",
        "print(original_list)\n",
        "print(deep_copied_list)  # The nested list is not shared, so it remains unchanged in the copied list.\n"
      ]
    },
    {
      "cell_type": "code",
      "execution_count": null,
      "metadata": {
        "id": "UZsQQq6Tcdoh"
      },
      "outputs": [],
      "source": [
        "def listFunction(list):\n",
        "    string = \"\"\n",
        "    for i in list:\n",
        "        if i != list[len(list)-1]:\n",
        "            string+= i\n",
        "            string+= ' '\n",
        "        else:\n",
        "            string += 'and '\n",
        "            string += i\n",
        "    print(string)\n",
        "spam = ['apples','bananas','tofu','cats']\n",
        "listFunction(spam)"
      ]
    },
    {
      "cell_type": "code",
      "execution_count": null,
      "metadata": {
        "id": "uAwRgx_whNJ7"
      },
      "outputs": [],
      "source": [
        "import random\n",
        "numberOfStreaks = 0\n",
        "lst = []\n",
        "for _ in range(10000):\n",
        "    if random.randint(0,1) == 1:\n",
        "        lst.append('H')\n",
        "    else:\n",
        "        lst.append('T')\n",
        "print(lst)\n",
        "for i in range(len(lst)):\n",
        "    if lst[i] == 'T' :\n",
        "        n = 0\n",
        "        for j in range(i,min(i+6,len(lst))):\n",
        "            if lst[j] == 'T' :\n",
        "                n+=1\n",
        "        if n == 6 :\n",
        "            numberOfStreaks +=1\n",
        "    else:\n",
        "        n = 0\n",
        "        for j in range(i,min(i+6,len(lst))):\n",
        "            if lst[j] == 'H' :\n",
        "                n+=1\n",
        "        if n == 6 :\n",
        "            numberOfStreaks +=1\n",
        "print(numberOfStreaks)"
      ]
    },
    {
      "cell_type": "code",
      "execution_count": null,
      "metadata": {
        "id": "LYLpdFYVhN70"
      },
      "outputs": [],
      "source": [
        "grid = [['.', '.', '.', '.', '.', '.'],\n",
        "        ['.', 'O', 'O', '.', '.', '.'],\n",
        "        ['O', 'O', 'O', 'O', '.', '.'],\n",
        "        ['O', 'O', 'O', 'O', 'O', '.'],\n",
        "        ['.', 'O', 'O', 'O', 'O', 'O'],\n",
        "        ['O', 'O', 'O', 'O', 'O', '.'],\n",
        "        ['O', 'O', 'O', 'O', '.', '.'],\n",
        "        ['.', 'O', 'O', '.', '.', '.'],\n",
        "        ['.', '.', '.', '.', '.', '.']]\n",
        "\n",
        "for i in range(len(grid)):\n",
        "    for j in range(len(grid)):\n",
        "        print(grid[j][i-3],end='')\n",
        "    print()\n"
      ]
    }
  ],
  "metadata": {
    "colab": {
      "provenance": []
    },
    "kernelspec": {
      "display_name": "Python 3",
      "name": "python3"
    },
    "language_info": {
      "name": "python"
    }
  },
  "nbformat": 4,
  "nbformat_minor": 0
}
