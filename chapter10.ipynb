{
  "nbformat": 4,
  "nbformat_minor": 0,
  "metadata": {
    "colab": {
      "provenance": []
    },
    "kernelspec": {
      "name": "python3",
      "display_name": "Python 3"
    },
    "language_info": {
      "name": "python"
    }
  },
  "cells": [
    {
      "cell_type": "markdown",
      "source": [
        "1. shutil.copy(src, dst) is used to copy a specific file from source (src) to destination (dst). It copies the file itself, not the entire directory.\n",
        "shutil.copytree(src, dst) is used to recursively copy an entire directory tree from source (src) to destination (dst). It copies all files and subdirectories within the specified source directory.\n",
        "2. The os.rename(src, dst) function is commonly used to rename files. It takes the source path (src) and the destination path (dst) as arguments and renames the file accordingly.\n",
        "3. send2trash provides a safer way to delete files or directories by moving them to the operating system's trash or recycle bin, allowing for potential recovery.\n",
        "shutil provides the shutil.rmtree(path) function, which deletes an entire directory and its contents. It's a more direct method that doesn't involve moving files to the trash, making it less safe in terms of potential recovery.\n",
        "4. The ZipFile method equivalent to File objects’ open() method is ZipFile(zip_file, mode). It opens a ZIP file (zip_file) in the specified mode (similar to file modes like 'r' for reading, 'w' for writing, 'a' for appending, etc.).\n"
      ],
      "metadata": {
        "id": "zd5mbM44ExUZ"
      }
    },
    {
      "cell_type": "code",
      "source": [
        "import os\n",
        "import shutil\n",
        "\n",
        "def selective_copy(source_folder, destination_folder, extension):\n",
        "    for foldername, subfolders, filenames in os.walk(source_folder):\n",
        "        for filename in filenames:\n",
        "            if filename.endswith(extension):\n",
        "                source_path = os.path.join(foldername, filename)\n",
        "                destination_path = os.path.join(destination_folder, filename)\n",
        "                shutil.copy(source_path, destination_path)\n",
        "\n",
        "selective_copy('', '', '.pdf')\n"
      ],
      "metadata": {
        "id": "TWM8QL3eE52x"
      },
      "execution_count": null,
      "outputs": []
    },
    {
      "cell_type": "code",
      "source": [
        "import os\n",
        "\n",
        "def delete_large_files(folder, size_limit):\n",
        "    for foldername, subfolders, filenames in os.walk(folder):\n",
        "        for filename in filenames:\n",
        "            file_path = os.path.join(foldername, filename)\n",
        "            if os.path.getsize(file_path) > size_limit:\n",
        "                print(f\"Deleting: {file_path}\")\n",
        "                os.remove(file_path)\n",
        "\n",
        "delete_large_files('',)\n"
      ],
      "metadata": {
        "id": "ROpWb7mIE-SU"
      },
      "execution_count": null,
      "outputs": []
    },
    {
      "cell_type": "code",
      "source": [
        "import os\n",
        "import re\n",
        "\n",
        "def fill_gaps(folder, prefix):\n",
        "    regex = re.compile(f'{re.escape(prefix)}(\\\\d+)\\\\..+')\n",
        "    files = sorted([file for file in os.listdir(folder) if regex.match(file)])\n",
        "\n",
        "    for i, filename in enumerate(files, start=1):\n",
        "        expected_name = f\"{prefix}{i:03d}.txt\"\n",
        "        if filename != expected_name:\n",
        "            new_name = os.path.join(folder, expected_name)\n",
        "            old_path = os.path.join(folder, filename)\n",
        "            os.rename(old_path, new_name)\n",
        "            print(f\"Renamed: {filename} to {expected_name}\")\n",
        "\n",
        "# Example usage:\n",
        "fill_gaps('', '')\n"
      ],
      "metadata": {
        "id": "JI-0iXjyFEEI"
      },
      "execution_count": null,
      "outputs": []
    }
  ]
}